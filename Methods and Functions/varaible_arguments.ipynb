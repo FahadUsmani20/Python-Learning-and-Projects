{
 "cells": [
  {
   "cell_type": "markdown",
   "metadata": {},
   "source": [
    "# *args\n",
    "When a function parameter starts with and asterisk, it allows for an arbitrary number of arguments, and function takes them in as tuple of values"
   ]
  },
  {
   "cell_type": "code",
   "execution_count": 1,
   "metadata": {},
   "outputs": [
    {
     "data": {
      "text/plain": [
       "0.5"
      ]
     },
     "execution_count": 1,
     "metadata": {},
     "output_type": "execute_result"
    }
   ],
   "source": [
    "def myfunc(*args):\n",
    "    return sum(args) * .05\n",
    "\n",
    "myfunc(10)"
   ]
  },
  {
   "cell_type": "code",
   "execution_count": 2,
   "metadata": {},
   "outputs": [
    {
     "data": {
      "text/plain": [
       "3.0"
      ]
     },
     "execution_count": 2,
     "metadata": {},
     "output_type": "execute_result"
    }
   ],
   "source": [
    "myfunc(10,20,30)"
   ]
  },
  {
   "cell_type": "markdown",
   "metadata": {},
   "source": [
    "# **kwargs\n",
    "When a function parameter starts with double astericks, it allows for arbitrary number of keyworded arguments\n"
   ]
  },
  {
   "cell_type": "code",
   "execution_count": 4,
   "metadata": {},
   "outputs": [
    {
     "name": "stdout",
     "output_type": "stream",
     "text": [
      "My favourite fruit is apple\n",
      "I dont like fruits\n"
     ]
    }
   ],
   "source": [
    "def myfunc(**kwargs):\n",
    "    if 'fruit' in kwargs:\n",
    "        print(f\"My favourite fruit is {kwargs['fruit']}\")\n",
    "    \n",
    "    else:\n",
    "        print(\"I dont like fruits\")\n",
    "myfunc(fruit = 'apple')\n",
    "myfunc(name = 'Fahad')"
   ]
  },
  {
   "cell_type": "markdown",
   "metadata": {},
   "source": [
    "# *args and **kwargs combined\n",
    "You can pass *args and **kwargs into the same function but *args have to appear before **kwargs."
   ]
  },
  {
   "cell_type": "code",
   "execution_count": 5,
   "metadata": {},
   "outputs": [
    {
     "name": "stdout",
     "output_type": "stream",
     "text": [
      "I like Eggs and Bacon\n",
      "My favourite fruit is Apple\n",
      "My favourite juice is Mango\n",
      "I dont eat breakfast\n"
     ]
    }
   ],
   "source": [
    "def myfunc(*args, **kwargs):\n",
    "    if 'fruit' and 'juice' in kwargs:\n",
    "        print(f\"I like {' and '.join(args)}\")\n",
    "        print(f\"My favourite fruit is {kwargs['fruit']}\")\n",
    "        print(f\"My favourite juice is {kwargs['juice']}\")\n",
    "    else:\n",
    "        print(\"I dont eat breakfast\")\n",
    "\n",
    "myfunc(\"Eggs\", \"Bacon\", fruit = 'Apple', juice = 'Mango')\n",
    "myfunc(\"Fahad\", lunch = 'No')"
   ]
  }
 ],
 "metadata": {
  "kernelspec": {
   "display_name": "Python 3",
   "language": "python",
   "name": "python3"
  },
  "language_info": {
   "codemirror_mode": {
    "name": "ipython",
    "version": 3
   },
   "file_extension": ".py",
   "mimetype": "text/x-python",
   "name": "python",
   "nbconvert_exporter": "python",
   "pygments_lexer": "ipython3",
   "version": "3.11.1"
  }
 },
 "nbformat": 4,
 "nbformat_minor": 2
}
