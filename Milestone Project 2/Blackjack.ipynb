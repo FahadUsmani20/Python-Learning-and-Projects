{
 "cells": [
  {
   "cell_type": "markdown",
   "metadata": {},
   "source": [
    "# Blackjack"
   ]
  },
  {
   "cell_type": "markdown",
   "metadata": {},
   "source": [
    "### Cards Creation"
   ]
  },
  {
   "cell_type": "code",
   "execution_count": 2,
   "metadata": {},
   "outputs": [],
   "source": [
    "from random import shuffle\n",
    "from IPython.display import clear_output "
   ]
  },
  {
   "cell_type": "code",
   "execution_count": 3,
   "metadata": {},
   "outputs": [],
   "source": [
    "suits = ('Hearts', 'Diamonds', 'Spades', 'Clubs')\n",
    "ranks = ('Two', 'Three', 'Four', 'Five', 'Six', 'Seven', 'Eight', 'Nine', 'Ten', 'Jack', 'Queen', 'King', 'Ace')\n",
    "values = {'Two': 2, 'Three': 3, 'Four': 4, 'Five': 5, 'Six': 6, 'Seven': 7, 'Eight': 8, 'Nine': 9, 'Ten': 10, 'Jack': 11, 'Queen': 11, 'King': 11, 'Ace': 11}"
   ]
  },
  {
   "cell_type": "code",
   "execution_count": 4,
   "metadata": {},
   "outputs": [],
   "source": [
    "class Card:\n",
    "    def __init__(self, suit, rank):\n",
    "        self.suit = suit\n",
    "        self.rank = rank\n",
    "        self.value = values[rank]\n",
    "\n",
    "    def __str__(self):\n",
    "        return self.rank + \" of \" + self.suit"
   ]
  },
  {
   "cell_type": "markdown",
   "metadata": {},
   "source": [
    "### Deck Creation"
   ]
  },
  {
   "cell_type": "code",
   "execution_count": 5,
   "metadata": {},
   "outputs": [],
   "source": [
    "class Deck:\n",
    "\n",
    "    def __init__(self):\n",
    "        self.all_cards = []\n",
    "        for suit in suits:\n",
    "            for rank in ranks:\n",
    "                self.all_cards.append(Card(suit, rank))\n",
    "\n",
    "    def shuffle(self):\n",
    "        shuffle(self.all_cards)\n",
    "\n",
    "    def deal_one(self):\n",
    "        return self.all_cards.pop()"
   ]
  },
  {
   "cell_type": "markdown",
   "metadata": {},
   "source": [
    "### Player Creation"
   ]
  },
  {
   "cell_type": "code",
   "execution_count": 18,
   "metadata": {},
   "outputs": [],
   "source": [
    "class Player:\n",
    "    def __init__(self, name):\n",
    "        self.name = name\n",
    "        self.all_cards = []\n",
    "        self.balance = 100\n",
    "\n",
    "    def add_card(self, new_card):\n",
    "        self.all_cards.append(new_card)\n",
    "\n",
    "    def show_cards(self):\n",
    "        for card in self.all_cards:\n",
    "            print(card)\n",
    "\n",
    "    def value_of_cards(self):\n",
    "        val = 0\n",
    "        for card in self.all_cards:\n",
    "            val += card.value\n",
    "        return val\n",
    "    \n",
    "    def bet(self, amount):\n",
    "        if amount < self.balance:\n",
    "            self.balance -= amount\n",
    "            print(\"Bet taken\")\n",
    "        else:\n",
    "            print(\"Insufficient Balance!\")\n",
    "\n",
    "    def update_balance(self, amount):\n",
    "        self.balance += amount\n",
    "\n",
    "    def stand(self):\n",
    "        return True\n",
    "    \n",
    "    def surrender(self, amount):\n",
    "        self.update_balance(amount/2)\n",
    "        print(\"You have Surrendered!\")\n",
    "        print(\"Dealer Wins!\")\n",
    "        print(f\"Your current balance is: {self.balance}\")"
   ]
  },
  {
   "cell_type": "markdown",
   "metadata": {},
   "source": [
    "### Game Logic"
   ]
  },
  {
   "cell_type": "code",
   "execution_count": 25,
   "metadata": {},
   "outputs": [
    {
     "name": "stdout",
     "output_type": "stream",
     "text": [
      "Players Cards\n",
      "Ten of Clubs\n",
      "Three of Spades\n",
      "Seven of Clubs\n",
      "\n",
      "Dealers Cards\n",
      "Six of Hearts\n",
      "\n",
      "Your Options are: \n",
      "1: Hit\n",
      "2: Stand\n",
      "3: Surrender\n",
      "4: Bet\n",
      "You have Surrendered!\n",
      "Dealer Wins!\n",
      "Your current balance is: 100.0\n"
     ]
    }
   ],
   "source": [
    "def play_blackjack():\n",
    "    \n",
    "    player_one = Player(\"Player 1\")\n",
    "    dealer = Player(\"Dealer\")\n",
    "\n",
    "    new_deck = Deck()\n",
    "\n",
    "    new_deck.shuffle()\n",
    "    \n",
    "    gameon = True\n",
    "\n",
    "    while gameon:\n",
    "    \n",
    "        for i in range(2):\n",
    "            player_one.add_card(new_deck.deal_one())\n",
    "            dealer.add_card(new_deck.deal_one())\n",
    "\n",
    "        player = True\n",
    "        amount = 0\n",
    "\n",
    "        while player:\n",
    "            clear_output()\n",
    "\n",
    "            print(\"Players Cards\")\n",
    "            player_one.show_cards()\n",
    "            print()\n",
    "            print(\"Dealers Cards\")\n",
    "            print(dealer.all_cards[0])\n",
    "            print()\n",
    "\n",
    "            print(\"Your Options are: \")\n",
    "            print(\"1: Hit\")\n",
    "            print(\"2: Stand\")\n",
    "            print(\"3: Surrender\")\n",
    "            print(\"4: Bet\")\n",
    "            \n",
    "            while True:\n",
    "                try:\n",
    "                    option = int(input(\"Please enter your choice: \"))\n",
    "                except:\n",
    "                    print(\"Please Enter a valid choice [1-4]\")\n",
    "                    continue\n",
    "                else:\n",
    "                    break\n",
    "\n",
    "            if option == 1:\n",
    "                player_one.add_card(new_deck.deal_one())\n",
    "                \n",
    "                clear_output()\n",
    "                \n",
    "                print(\"Player Cards:\")\n",
    "                player_one.show_cards()\n",
    "                print()\n",
    "                print(\"Dealers Cards:\")\n",
    "                print(dealer.all_cards[0])\n",
    "                print()\n",
    "                \n",
    "            elif option == 2:\n",
    "                player = False\n",
    "                gameon = True\n",
    "            \n",
    "            elif option == 3:\n",
    "                player_one.surrender(amount)\n",
    "                gameon = False\n",
    "                break\n",
    "            \n",
    "            elif option == 4:\n",
    "                print(f\"Your current balance is: {player_one.balance}\")\n",
    "                amount = int(input(\"Enter Amount to bet: $\"))\n",
    "                if player_one.bet(amount):\n",
    "                    break\n",
    "\n",
    "\n",
    "            if player_one.value_of_cards() > 21:\n",
    "                print(\"Player goes BUST!\")\n",
    "                print(\"Dealer Wins!\")\n",
    "                print(f\"Your current balance is: {player_one.balance}\")\n",
    "                gameon = False\n",
    "                break\n",
    "    \n",
    "        if gameon:\n",
    "\n",
    "            while dealer.value_of_cards() < 17:\n",
    "                dealer.add_card(new_deck.deal_one())\n",
    "\n",
    "            clear_output()\n",
    "            print(\"Players Cards:\")\n",
    "            player_one.show_cards()\n",
    "            print()\n",
    "            print(\"Dealers Cards:\")\n",
    "            dealer.show_cards()\n",
    "            print()\n",
    "            \n",
    "            if dealer.value_of_cards() > 21:\n",
    "                print(\"Dealer goes BUST!\")\n",
    "                print(\"Player Wins!\")\n",
    "                player_one.update_balance(2 * amount)\n",
    "                print(f\"Your current balance is: {player_one.balance}\")\n",
    "                gameon = False\n",
    "\n",
    "            elif dealer.value_of_cards() > player_one.value_of_cards():\n",
    "                print(\"Dealer Wins!\")\n",
    "                print(f\"Your current balance is: {player_one.balance}\")\n",
    "                gameon = False\n",
    "                break\n",
    "\n",
    "            else:\n",
    "                print(\"It is a Tie!\")\n",
    "                player_one.update_balance(amount)\n",
    "                print(f\"Your current balance is: {player_one.balance}\")\n",
    "                gameon = False\n",
    "        \n",
    "        play_again = input(\"Do you want to play again [Y / N]: \")\n",
    "        \n",
    "        if play_again.lower() != 'y':\n",
    "            gameon = False\n",
    "        else:\n",
    "            play_blackjack()\n",
    "        \n",
    "play_blackjack()\n",
    "\n",
    "    "
   ]
  }
 ],
 "metadata": {
  "kernelspec": {
   "display_name": "Python 3",
   "language": "python",
   "name": "python3"
  },
  "language_info": {
   "codemirror_mode": {
    "name": "ipython",
    "version": 3
   },
   "file_extension": ".py",
   "mimetype": "text/x-python",
   "name": "python",
   "nbconvert_exporter": "python",
   "pygments_lexer": "ipython3",
   "version": "3.11.1"
  }
 },
 "nbformat": 4,
 "nbformat_minor": 2
}
