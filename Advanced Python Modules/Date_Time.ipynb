{
 "cells": [
  {
   "cell_type": "markdown",
   "metadata": {},
   "source": [
    "# datetime module\n",
    "\n",
    "Python has the datetime module to help deal with timestamps in your code. Time values are represented with the time class. Times have attributes for hour, minute, second, and microsecond. They can also include time zone information"
   ]
  },
  {
   "cell_type": "markdown",
   "metadata": {},
   "source": [
    "### Time"
   ]
  },
  {
   "cell_type": "code",
   "execution_count": 1,
   "metadata": {},
   "outputs": [
    {
     "name": "stdout",
     "output_type": "stream",
     "text": [
      "04:20:01\n",
      "Hour:  4\n",
      "Minutes:  20\n",
      "Seconds:  1\n",
      "Microseconds:  0\n",
      "Tzinfo:  None\n"
     ]
    }
   ],
   "source": [
    "import datetime\n",
    "\n",
    "t = datetime.time(4, 20, 1)\n",
    "\n",
    "print(t)\n",
    "print(\"Hour: \", t.hour)\n",
    "print(\"Minutes: \", t.minute)\n",
    "print(\"Seconds: \", t.second)\n",
    "print(\"Microseconds: \", t.microsecond)\n",
    "print(\"Tzinfo: \", t.tzinfo)"
   ]
  },
  {
   "cell_type": "code",
   "execution_count": 2,
   "metadata": {},
   "outputs": [
    {
     "name": "stdout",
     "output_type": "stream",
     "text": [
      "Earliest:  00:00:00\n",
      "Latest:  23:59:59.999999\n",
      "Resolution:  0:00:00.000001\n"
     ]
    }
   ],
   "source": [
    "print(\"Earliest: \", datetime.time.min)\n",
    "print(\"Latest: \", datetime.time.max)\n",
    "print(\"Resolution: \", datetime.time.resolution)"
   ]
  },
  {
   "cell_type": "markdown",
   "metadata": {},
   "source": [
    "### Dates"
   ]
  },
  {
   "cell_type": "code",
   "execution_count": 4,
   "metadata": {},
   "outputs": [
    {
     "name": "stdout",
     "output_type": "stream",
     "text": [
      "2024-04-21\n",
      "ctime:  Sun Apr 21 00:00:00 2024\n",
      "Tuple:  time.struct_time(tm_year=2024, tm_mon=4, tm_mday=21, tm_hour=0, tm_min=0, tm_sec=0, tm_wday=6, tm_yday=112, tm_isdst=-1)\n",
      "Ordinal:  738997\n",
      "Year:  2024\n",
      "Month:  4\n",
      "Day:  21\n"
     ]
    }
   ],
   "source": [
    "today = datetime.date.today()\n",
    "print(today)\n",
    "print(\"ctime: \", today.ctime())\n",
    "print(\"Tuple: \", today.timetuple())\n",
    "print('Ordinal: ', today.toordinal())\n",
    "print('Year: ', today.year)\n",
    "print('Month: ', today.month)\n",
    "print('Day: ', today.day)"
   ]
  },
  {
   "cell_type": "code",
   "execution_count": 6,
   "metadata": {},
   "outputs": [
    {
     "name": "stdout",
     "output_type": "stream",
     "text": [
      "Earliest:  0001-01-01\n",
      "Latest:  9999-12-31\n",
      "Resolution:  1 day, 0:00:00\n"
     ]
    }
   ],
   "source": [
    "print('Earliest: ', datetime.date.min)\n",
    "print('Latest: ', datetime.date.max)\n",
    "print('Resolution: ', datetime.date.resolution)"
   ]
  },
  {
   "cell_type": "code",
   "execution_count": 9,
   "metadata": {},
   "outputs": [
    {
     "name": "stdout",
     "output_type": "stream",
     "text": [
      "d1:  2020-01-01\n",
      "d2:  1990-02-20\n"
     ]
    }
   ],
   "source": [
    "d1 = datetime.date(2020,1,1)\n",
    "print(\"d1: \", d1)\n",
    "\n",
    "d2 = d1.replace(year = 1990, month= 2, day = 20)\n",
    "print(\"d2: \", d2)"
   ]
  },
  {
   "cell_type": "markdown",
   "metadata": {},
   "source": [
    "### Arithmetic"
   ]
  },
  {
   "cell_type": "code",
   "execution_count": 10,
   "metadata": {},
   "outputs": [
    {
     "data": {
      "text/plain": [
       "datetime.date(2020, 1, 1)"
      ]
     },
     "execution_count": 10,
     "metadata": {},
     "output_type": "execute_result"
    }
   ],
   "source": [
    "d1"
   ]
  },
  {
   "cell_type": "code",
   "execution_count": 11,
   "metadata": {},
   "outputs": [
    {
     "data": {
      "text/plain": [
       "datetime.date(1990, 2, 20)"
      ]
     },
     "execution_count": 11,
     "metadata": {},
     "output_type": "execute_result"
    }
   ],
   "source": [
    "d2"
   ]
  },
  {
   "cell_type": "code",
   "execution_count": 12,
   "metadata": {},
   "outputs": [
    {
     "data": {
      "text/plain": [
       "datetime.timedelta(days=10907)"
      ]
     },
     "execution_count": 12,
     "metadata": {},
     "output_type": "execute_result"
    }
   ],
   "source": [
    "d1-d2"
   ]
  }
 ],
 "metadata": {
  "kernelspec": {
   "display_name": "Python 3",
   "language": "python",
   "name": "python3"
  },
  "language_info": {
   "codemirror_mode": {
    "name": "ipython",
    "version": 3
   },
   "file_extension": ".py",
   "mimetype": "text/x-python",
   "name": "python",
   "nbconvert_exporter": "python",
   "pygments_lexer": "ipython3",
   "version": "3.11.1"
  }
 },
 "nbformat": 4,
 "nbformat_minor": 2
}
