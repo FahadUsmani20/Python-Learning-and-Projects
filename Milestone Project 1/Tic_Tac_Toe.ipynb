{
 "cells": [
  {
   "cell_type": "code",
   "execution_count": 1,
   "metadata": {},
   "outputs": [],
   "source": [
    "from IPython.display import clear_output\n",
    "from random import shuffle"
   ]
  },
  {
   "cell_type": "code",
   "execution_count": 2,
   "metadata": {},
   "outputs": [
    {
     "name": "stdout",
     "output_type": "stream",
     "text": [
      " 0  |  0  | 0\n",
      "--------------\n",
      " 0  |  0  | 0\n",
      "--------------\n",
      " 0  |  0  | 0\n"
     ]
    }
   ],
   "source": [
    "board = [\"0\"] * 10\n",
    "\n",
    "def display_board(board):\n",
    "    print(f\" {board[1]}  |  {board[2]}  | {board[3]}\")\n",
    "    print(\"--------------\")\n",
    "    print(f\" {board[4]}  |  {board[5]}  | {board[6]}\")\n",
    "    print(\"--------------\")\n",
    "    print(f\" {board[7]}  |  {board[8]}  | {board[9]}\")\n",
    "\n",
    "display_board(board)"
   ]
  },
  {
   "cell_type": "code",
   "execution_count": 3,
   "metadata": {},
   "outputs": [
    {
     "name": "stdout",
     "output_type": "stream",
     "text": [
      "O\n",
      "X\n"
     ]
    }
   ],
   "source": [
    "def player_marker():\n",
    "    markers = ['X', 'O']\n",
    "    shuffle(markers)\n",
    "\n",
    "    return markers[0], markers[1]\n",
    "\n",
    "player1_marker, player2_marker = player_marker()\n",
    "\n",
    "print(player1_marker)\n",
    "print(player2_marker)"
   ]
  },
  {
   "cell_type": "code",
   "execution_count": 18,
   "metadata": {},
   "outputs": [
    {
     "name": "stdout",
     "output_type": "stream",
     "text": [
      " 0  |  0  | 0\n",
      "--------------\n",
      " 0  |  0  | 0\n",
      "--------------\n",
      " 0  |  0  | 0\n",
      "Position Already Taken!\n"
     ]
    },
    {
     "ename": "ValueError",
     "evalue": "invalid literal for int() with base 10: ''",
     "output_type": "error",
     "traceback": [
      "\u001b[1;31m---------------------------------------------------------------------------\u001b[0m",
      "\u001b[1;31mValueError\u001b[0m                                Traceback (most recent call last)",
      "Cell \u001b[1;32mIn[18], line 20\u001b[0m\n\u001b[0;32m     17\u001b[0m             \u001b[38;5;28;01mreturn\u001b[39;00m \u001b[38;5;28mint\u001b[39m(choice)\n\u001b[0;32m     19\u001b[0m board \u001b[38;5;241m=\u001b[39m [\u001b[38;5;124m'\u001b[39m\u001b[38;5;124m0\u001b[39m\u001b[38;5;124m'\u001b[39m]\u001b[38;5;241m*\u001b[39m\u001b[38;5;241m10\u001b[39m\n\u001b[1;32m---> 20\u001b[0m player \u001b[38;5;241m=\u001b[39m \u001b[43mplayer_choice\u001b[49m\u001b[43m(\u001b[49m\u001b[43mboard\u001b[49m\u001b[43m)\u001b[49m\n\u001b[0;32m     21\u001b[0m \u001b[38;5;28mprint\u001b[39m(player)\n\u001b[0;32m     22\u001b[0m \u001b[38;5;28mtype\u001b[39m(player)\n",
      "Cell \u001b[1;32mIn[18], line 12\u001b[0m, in \u001b[0;36mplayer_choice\u001b[1;34m(board)\u001b[0m\n\u001b[0;32m      9\u001b[0m     \u001b[38;5;28mprint\u001b[39m(\u001b[38;5;124m\"\u001b[39m\u001b[38;5;124mPlease choose a Valid Position!\u001b[39m\u001b[38;5;124m\"\u001b[39m)\n\u001b[0;32m     10\u001b[0m     choice \u001b[38;5;241m=\u001b[39m \u001b[38;5;28;01mTrue\u001b[39;00m\n\u001b[1;32m---> 12\u001b[0m \u001b[38;5;28;01melif\u001b[39;00m board[\u001b[38;5;28;43mint\u001b[39;49m\u001b[43m(\u001b[49m\u001b[43mchoice\u001b[49m\u001b[43m)\u001b[49m] \u001b[38;5;241m!=\u001b[39m \u001b[38;5;124m\"\u001b[39m\u001b[38;5;124m \u001b[39m\u001b[38;5;124m\"\u001b[39m:\n\u001b[0;32m     13\u001b[0m     \u001b[38;5;28mprint\u001b[39m(\u001b[38;5;124m\"\u001b[39m\u001b[38;5;124mPosition Already Taken!\u001b[39m\u001b[38;5;124m\"\u001b[39m)\n\u001b[0;32m     14\u001b[0m     choice \u001b[38;5;241m=\u001b[39m \u001b[38;5;28;01mTrue\u001b[39;00m\n",
      "\u001b[1;31mValueError\u001b[0m: invalid literal for int() with base 10: ''"
     ]
    }
   ],
   "source": [
    "def player_choice(board):\n",
    "    choice = True\n",
    "    display_board(board)\n",
    "\n",
    "    while choice:\n",
    "        choice = input(\"Please enter your position [1 - 9]: \")\n",
    "\n",
    "        if choice not in str(list(range(1,10))):\n",
    "            print(\"Please choose a Valid Position!\")\n",
    "            choice = True\n",
    "\n",
    "        elif board[int(choice)] != \" \":\n",
    "            print(\"Position Already Taken!\")\n",
    "            choice = True\n",
    "\n",
    "        else:\n",
    "            return int(choice)\n",
    "\n",
    "board = ['0']*10\n",
    "player = player_choice(board)\n",
    "print(player)\n",
    "type(player)"
   ]
  },
  {
   "cell_type": "code",
   "execution_count": 11,
   "metadata": {},
   "outputs": [
    {
     "name": "stdout",
     "output_type": "stream",
     "text": [
      " X  |  0  | 0\n",
      "--------------\n",
      " 0  |  0  | 0\n",
      "--------------\n",
      " 0  |  0  | 0\n"
     ]
    }
   ],
   "source": [
    "def update_board(board, choice, marker):\n",
    "    board[choice] = marker\n",
    "    return board\n",
    "\n",
    "board = ['0']*10\n",
    "board = update_board(board, 1, 'X')\n",
    "display_board(board)"
   ]
  },
  {
   "cell_type": "code",
   "execution_count": 19,
   "metadata": {},
   "outputs": [],
   "source": [
    "def check_space(board):\n",
    "    for space in board[1:]:\n",
    "        if space == \" \":\n",
    "            return True\n",
    "    return False"
   ]
  },
  {
   "cell_type": "code",
   "execution_count": 7,
   "metadata": {},
   "outputs": [],
   "source": [
    "def win_condition(board, marker):\n",
    "    if (board[1] == board[2] == board[3] == marker) or (board[1] == board[4] == board[7] == marker) or (board[1] == board[5] == board[9] == marker) or (board[2] == board[5] == board[8] == marker) or (board[4] == board[5] == board[6] == marker) or (board[7] == board[8] == board[9] == marker) or (board[3] == board[6] == board[9] == marker) or (board[5] == board[7] == board[3] == marker):\n",
    "        return True\n",
    "    return False"
   ]
  },
  {
   "cell_type": "code",
   "execution_count": 47,
   "metadata": {},
   "outputs": [],
   "source": [
    "def gameon_choice():\n",
    "\n",
    "    choice = input(\"Would you like to continue playing [Y, N]: \")\n",
    "    \n",
    "    if choice.capitalize() == 'Y':\n",
    "        return True\n",
    "    \n",
    "    return False"
   ]
  },
  {
   "cell_type": "code",
   "execution_count": 48,
   "metadata": {},
   "outputs": [
    {
     "name": "stdout",
     "output_type": "stream",
     "text": [
      "Player 1 Turn\n",
      "Player 1 Marker: X\n",
      " X  |  O  | X\n",
      "--------------\n",
      " O  |  X  | O\n",
      "--------------\n",
      "    |     |  \n",
      " X  |  O  | X\n",
      "--------------\n",
      " O  |  X  | O\n",
      "--------------\n",
      " X  |     |  \n",
      "Congratulation!\n",
      "Player 1 Wins!\n"
     ]
    }
   ],
   "source": [
    "print(\"Welcome to Tic Tac Toe\")\n",
    "\n",
    "while True:\n",
    "    board = [\" \"] * 10\n",
    "    player1_marker, player2_marker = player_marker()\n",
    "\n",
    "    play_game = input(\"Are you Ready to play [Y or N]: \")\n",
    "\n",
    "    if play_game.lower() == 'y':\n",
    "        game_on = True\n",
    "    else:\n",
    "        game_on = False\n",
    "\n",
    "    while game_on:\n",
    "\n",
    "        player1_game = True\n",
    "        while player1_game:\n",
    "            print(\"Player 1 Turn\")\n",
    "            print(f\"Player 1 Marker: {player1_marker}\")\n",
    "\n",
    "            player1_choice = player_choice(board)\n",
    "            \n",
    "            board = update_board(board, player1_choice, player1_marker)\n",
    "\n",
    "            if win_condition(board, player1_marker):\n",
    "                display_board(board)\n",
    "                print(\"Congratulation!\")\n",
    "                print(\"Player 1 Wins!\")\n",
    "                game_on = False\n",
    "                break\n",
    "            else:\n",
    "                if check_space(board) == False:\n",
    "                    display_board(board)\n",
    "                    print(\"It is a Tie!\")\n",
    "                    game_on = False \n",
    "                    break\n",
    "                else:\n",
    "                    clear_output()\n",
    "                    player2_game = True\n",
    "                    player1_game = False\n",
    "        \n",
    "        while player2_game:\n",
    "            print(\"Player 2 Turn\")\n",
    "            print(f\"Player 2 Marker: {player2_marker}\")\n",
    "\n",
    "            player2_choice = player_choice(board)\n",
    "            \n",
    "            board = update_board(board, player2_choice, player2_marker)\n",
    "\n",
    "            if win_condition(board, player2_marker):\n",
    "                display_board(board)\n",
    "                print(\"Congratulation!\")\n",
    "                print(\"Player 2 Wins!\")\n",
    "                game_on = False\n",
    "                break\n",
    "\n",
    "            else:\n",
    "                if check_space(board) == False:\n",
    "                    display_board(board)\n",
    "                    print(\"It is a Tie!\")\n",
    "                    game_on = False\n",
    "                    break\n",
    "                \n",
    "                else:\n",
    "                    clear_output()\n",
    "                    player1_game = True\n",
    "                    player2_game = False\n",
    "    \n",
    "    if not gameon_choice():\n",
    "        break"
   ]
  }
 ],
 "metadata": {
  "kernelspec": {
   "display_name": "Python 3",
   "language": "python",
   "name": "python3"
  },
  "language_info": {
   "codemirror_mode": {
    "name": "ipython",
    "version": 3
   },
   "file_extension": ".py",
   "mimetype": "text/x-python",
   "name": "python",
   "nbconvert_exporter": "python",
   "pygments_lexer": "ipython3",
   "version": "3.11.1"
  }
 },
 "nbformat": 4,
 "nbformat_minor": 2
}
